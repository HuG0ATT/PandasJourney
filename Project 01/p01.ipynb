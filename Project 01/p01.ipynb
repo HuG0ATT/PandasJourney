{
 "cells": [
  {
   "cell_type": "code",
   "id": "initial_id",
   "metadata": {
    "collapsed": true,
    "ExecuteTime": {
     "end_time": "2025-09-06T07:43:41.799847Z",
     "start_time": "2025-09-06T07:43:40.898299Z"
    }
   },
   "source": [
    "import pandas as pd\n",
    "\n",
    "try:\n",
    "    sales = pd.read_csv(\"sales.csv\", parse_dates=[\"date\"], dtype={\"product\": \"category\"})\n",
    "except FileNotFoundError:\n",
    "    raise SystemExit(\"File not found. Please check the file path.\")"
   ],
   "outputs": [],
   "execution_count": 1
  },
  {
   "metadata": {},
   "cell_type": "markdown",
   "source": "",
   "id": "ac7859b63dcb4af8"
  },
  {
   "metadata": {
    "ExecuteTime": {
     "end_time": "2025-09-06T07:43:42.559450Z",
     "start_time": "2025-09-06T07:43:42.550979Z"
    }
   },
   "cell_type": "code",
   "source": [
    "# Display the first 5 rows of the sales DataFrame\n",
    "sales.head()"
   ],
   "id": "84b1106c856e1808",
   "outputs": [
    {
     "data": {
      "text/plain": [
       "   transaction_id  customer_id product  quantity  price       date\n",
       "0               1          101   Apple         2    0.5 2023-01-01\n",
       "1               2          102  Banana         5    0.2 2023-01-01\n",
       "2               3          103  Orange         3    0.3 2023-01-02\n",
       "3               4          101  Banana         2    0.2 2023-01-03\n",
       "4               5          104   Apple         4    0.5 2023-01-04"
      ],
      "text/html": [
       "<div>\n",
       "<style scoped>\n",
       "    .dataframe tbody tr th:only-of-type {\n",
       "        vertical-align: middle;\n",
       "    }\n",
       "\n",
       "    .dataframe tbody tr th {\n",
       "        vertical-align: top;\n",
       "    }\n",
       "\n",
       "    .dataframe thead th {\n",
       "        text-align: right;\n",
       "    }\n",
       "</style>\n",
       "<table border=\"1\" class=\"dataframe\">\n",
       "  <thead>\n",
       "    <tr style=\"text-align: right;\">\n",
       "      <th></th>\n",
       "      <th>transaction_id</th>\n",
       "      <th>customer_id</th>\n",
       "      <th>product</th>\n",
       "      <th>quantity</th>\n",
       "      <th>price</th>\n",
       "      <th>date</th>\n",
       "    </tr>\n",
       "  </thead>\n",
       "  <tbody>\n",
       "    <tr>\n",
       "      <th>0</th>\n",
       "      <td>1</td>\n",
       "      <td>101</td>\n",
       "      <td>Apple</td>\n",
       "      <td>2</td>\n",
       "      <td>0.5</td>\n",
       "      <td>2023-01-01</td>\n",
       "    </tr>\n",
       "    <tr>\n",
       "      <th>1</th>\n",
       "      <td>2</td>\n",
       "      <td>102</td>\n",
       "      <td>Banana</td>\n",
       "      <td>5</td>\n",
       "      <td>0.2</td>\n",
       "      <td>2023-01-01</td>\n",
       "    </tr>\n",
       "    <tr>\n",
       "      <th>2</th>\n",
       "      <td>3</td>\n",
       "      <td>103</td>\n",
       "      <td>Orange</td>\n",
       "      <td>3</td>\n",
       "      <td>0.3</td>\n",
       "      <td>2023-01-02</td>\n",
       "    </tr>\n",
       "    <tr>\n",
       "      <th>3</th>\n",
       "      <td>4</td>\n",
       "      <td>101</td>\n",
       "      <td>Banana</td>\n",
       "      <td>2</td>\n",
       "      <td>0.2</td>\n",
       "      <td>2023-01-03</td>\n",
       "    </tr>\n",
       "    <tr>\n",
       "      <th>4</th>\n",
       "      <td>5</td>\n",
       "      <td>104</td>\n",
       "      <td>Apple</td>\n",
       "      <td>4</td>\n",
       "      <td>0.5</td>\n",
       "      <td>2023-01-04</td>\n",
       "    </tr>\n",
       "  </tbody>\n",
       "</table>\n",
       "</div>"
      ]
     },
     "execution_count": 2,
     "metadata": {},
     "output_type": "execute_result"
    }
   ],
   "execution_count": 2
  },
  {
   "metadata": {},
   "cell_type": "markdown",
   "source": "",
   "id": "e29a9968abbf26b"
  },
  {
   "metadata": {
    "ExecuteTime": {
     "end_time": "2025-09-06T07:43:43.589533Z",
     "start_time": "2025-09-06T07:43:43.585131Z"
    }
   },
   "cell_type": "code",
   "source": [
    "# Check data types and missing values\n",
    "sales.info()"
   ],
   "id": "9eba658876853579",
   "outputs": [
    {
     "name": "stdout",
     "output_type": "stream",
     "text": [
      "<class 'pandas.core.frame.DataFrame'>\n",
      "RangeIndex: 8 entries, 0 to 7\n",
      "Data columns (total 6 columns):\n",
      " #   Column          Non-Null Count  Dtype         \n",
      "---  ------          --------------  -----         \n",
      " 0   transaction_id  8 non-null      int64         \n",
      " 1   customer_id     8 non-null      int64         \n",
      " 2   product         8 non-null      category      \n",
      " 3   quantity        8 non-null      int64         \n",
      " 4   price           8 non-null      float64       \n",
      " 5   date            8 non-null      datetime64[ns]\n",
      "dtypes: category(1), datetime64[ns](1), float64(1), int64(3)\n",
      "memory usage: 484.0 bytes\n"
     ]
    }
   ],
   "execution_count": 3
  },
  {
   "metadata": {},
   "cell_type": "markdown",
   "source": "",
   "id": "62e71c958d65e188"
  },
  {
   "metadata": {
    "ExecuteTime": {
     "end_time": "2025-09-06T07:43:45.325529Z",
     "start_time": "2025-09-06T07:43:45.321718Z"
    }
   },
   "cell_type": "code",
   "source": [
    "# Show the list of columns\n",
    "sales.columns.tolist()"
   ],
   "id": "70c24ed655ce195d",
   "outputs": [
    {
     "data": {
      "text/plain": [
       "['transaction_id', 'customer_id', 'product', 'quantity', 'price', 'date']"
      ]
     },
     "execution_count": 4,
     "metadata": {},
     "output_type": "execute_result"
    }
   ],
   "execution_count": 4
  },
  {
   "metadata": {},
   "cell_type": "markdown",
   "source": "",
   "id": "38e6406b263cdb57"
  },
  {
   "metadata": {
    "ExecuteTime": {
     "end_time": "2025-09-06T07:43:47.580066Z",
     "start_time": "2025-09-06T07:43:47.576457Z"
    }
   },
   "cell_type": "code",
   "source": [
    "# Show the shape of the DataFrame.\n",
    "sales.shape"
   ],
   "id": "8a556b9653099073",
   "outputs": [
    {
     "data": {
      "text/plain": [
       "(8, 6)"
      ]
     },
     "execution_count": 5,
     "metadata": {},
     "output_type": "execute_result"
    }
   ],
   "execution_count": 5
  },
  {
   "metadata": {},
   "cell_type": "markdown",
   "source": "",
   "id": "be7e6148b9de03fd"
  },
  {
   "metadata": {
    "ExecuteTime": {
     "end_time": "2025-09-06T07:43:48.660660Z",
     "start_time": "2025-09-06T07:43:48.657856Z"
    }
   },
   "cell_type": "code",
   "source": [
    "# Create a new column total_sales = quantity * price.\n",
    "sales[\"total_sales\"] = sales[\"quantity\"] * sales[\"price\"]"
   ],
   "id": "445464e5b565f165",
   "outputs": [],
   "execution_count": 6
  },
  {
   "metadata": {},
   "cell_type": "markdown",
   "source": "",
   "id": "11909295e7f96668"
  },
  {
   "metadata": {
    "ExecuteTime": {
     "end_time": "2025-09-06T07:43:50.264975Z",
     "start_time": "2025-09-06T07:43:50.255141Z"
    }
   },
   "cell_type": "code",
   "source": [
    "# Filter transactions where product == \"Apple\".\n",
    "apple_sales = sales.query(\"product == 'Apple'\").reset_index(drop=True)\n",
    "\n",
    "apple_sales.head()"
   ],
   "id": "87745babea926159",
   "outputs": [
    {
     "data": {
      "text/plain": [
       "   transaction_id  customer_id product  quantity  price       date  \\\n",
       "0               1          101   Apple         2    0.5 2023-01-01   \n",
       "1               5          104   Apple         4    0.5 2023-01-04   \n",
       "2               7          103   Apple         2    0.5 2023-01-05   \n",
       "\n",
       "   total_sales  \n",
       "0          1.0  \n",
       "1          2.0  \n",
       "2          1.0  "
      ],
      "text/html": [
       "<div>\n",
       "<style scoped>\n",
       "    .dataframe tbody tr th:only-of-type {\n",
       "        vertical-align: middle;\n",
       "    }\n",
       "\n",
       "    .dataframe tbody tr th {\n",
       "        vertical-align: top;\n",
       "    }\n",
       "\n",
       "    .dataframe thead th {\n",
       "        text-align: right;\n",
       "    }\n",
       "</style>\n",
       "<table border=\"1\" class=\"dataframe\">\n",
       "  <thead>\n",
       "    <tr style=\"text-align: right;\">\n",
       "      <th></th>\n",
       "      <th>transaction_id</th>\n",
       "      <th>customer_id</th>\n",
       "      <th>product</th>\n",
       "      <th>quantity</th>\n",
       "      <th>price</th>\n",
       "      <th>date</th>\n",
       "      <th>total_sales</th>\n",
       "    </tr>\n",
       "  </thead>\n",
       "  <tbody>\n",
       "    <tr>\n",
       "      <th>0</th>\n",
       "      <td>1</td>\n",
       "      <td>101</td>\n",
       "      <td>Apple</td>\n",
       "      <td>2</td>\n",
       "      <td>0.5</td>\n",
       "      <td>2023-01-01</td>\n",
       "      <td>1.0</td>\n",
       "    </tr>\n",
       "    <tr>\n",
       "      <th>1</th>\n",
       "      <td>5</td>\n",
       "      <td>104</td>\n",
       "      <td>Apple</td>\n",
       "      <td>4</td>\n",
       "      <td>0.5</td>\n",
       "      <td>2023-01-04</td>\n",
       "      <td>2.0</td>\n",
       "    </tr>\n",
       "    <tr>\n",
       "      <th>2</th>\n",
       "      <td>7</td>\n",
       "      <td>103</td>\n",
       "      <td>Apple</td>\n",
       "      <td>2</td>\n",
       "      <td>0.5</td>\n",
       "      <td>2023-01-05</td>\n",
       "      <td>1.0</td>\n",
       "    </tr>\n",
       "  </tbody>\n",
       "</table>\n",
       "</div>"
      ]
     },
     "execution_count": 7,
     "metadata": {},
     "output_type": "execute_result"
    }
   ],
   "execution_count": 7
  },
  {
   "metadata": {},
   "cell_type": "markdown",
   "source": "",
   "id": "5c9a4dbdeba43ad0"
  },
  {
   "metadata": {
    "ExecuteTime": {
     "end_time": "2025-09-06T07:43:51.670953Z",
     "start_time": "2025-09-06T07:43:51.668238Z"
    }
   },
   "cell_type": "code",
   "source": [
    "# Calculate the total revenue.\n",
    "print(\"Total revenue:\", sales[\"total_sales\"].sum().round(2))"
   ],
   "id": "b52d172ece61c36c",
   "outputs": [
    {
     "name": "stdout",
     "output_type": "stream",
     "text": [
      "Total revenue: 8.4\n"
     ]
    }
   ],
   "execution_count": 8
  },
  {
   "metadata": {},
   "cell_type": "markdown",
   "source": "",
   "id": "6a90a5a63561608"
  },
  {
   "metadata": {
    "ExecuteTime": {
     "end_time": "2025-09-06T07:43:52.947460Z",
     "start_time": "2025-09-06T07:43:52.945159Z"
    }
   },
   "cell_type": "code",
   "source": [
    "# Count how many unique customers there are.\n",
    "print(\"Unique customers:\", sales[\"customer_id\"].nunique())"
   ],
   "id": "2d4f47dd7292254f",
   "outputs": [
    {
     "name": "stdout",
     "output_type": "stream",
     "text": [
      "Unique customers: 4\n"
     ]
    }
   ],
   "execution_count": 9
  },
  {
   "metadata": {},
   "cell_type": "markdown",
   "source": "",
   "id": "6051f29a148f06f2"
  },
  {
   "metadata": {
    "ExecuteTime": {
     "end_time": "2025-09-06T07:43:56.537343Z",
     "start_time": "2025-09-06T07:43:56.532201Z"
    }
   },
   "cell_type": "code",
   "source": [
    "# Group by customer_id and calculate their total purchases\n",
    "sales.groupby(\"customer_id\")[\"total_sales\"].sum().sort_values(ascending=False)"
   ],
   "id": "e0ec7aff5b725174",
   "outputs": [
    {
     "data": {
      "text/plain": [
       "customer_id\n",
       "101    3.2\n",
       "104    2.0\n",
       "103    1.9\n",
       "102    1.3\n",
       "Name: total_sales, dtype: float64"
      ]
     },
     "execution_count": 10,
     "metadata": {},
     "output_type": "execute_result"
    }
   ],
   "execution_count": 10
  },
  {
   "metadata": {},
   "cell_type": "markdown",
   "source": "",
   "id": "de72222ab1f46a3e"
  },
  {
   "metadata": {
    "ExecuteTime": {
     "end_time": "2025-09-06T07:43:57.491123Z",
     "start_time": "2025-09-06T07:43:57.486016Z"
    }
   },
   "cell_type": "code",
   "source": [
    "# Find which product generated the most revenue overall\n",
    "sales.groupby(\"product\", observed=False)[\"total_sales\"].sum().nlargest(1)"
   ],
   "id": "6a03839463d8fb4c",
   "outputs": [
    {
     "data": {
      "text/plain": [
       "product\n",
       "Apple    4.0\n",
       "Name: total_sales, dtype: float64"
      ]
     },
     "execution_count": 11,
     "metadata": {},
     "output_type": "execute_result"
    }
   ],
   "execution_count": 11
  },
  {
   "metadata": {},
   "cell_type": "markdown",
   "source": "",
   "id": "816767ce455ad1a1"
  },
  {
   "metadata": {
    "ExecuteTime": {
     "end_time": "2025-09-06T07:43:58.656498Z",
     "start_time": "2025-09-06T07:43:58.650812Z"
    }
   },
   "cell_type": "code",
   "source": [
    "# Identify which customer spent the most in total.\n",
    "sales.groupby(\"customer_id\", observed=False)[\"total_sales\"].sum().nlargest(1)"
   ],
   "id": "552b20d34d90f633",
   "outputs": [
    {
     "data": {
      "text/plain": [
       "customer_id\n",
       "101    3.2\n",
       "Name: total_sales, dtype: float64"
      ]
     },
     "execution_count": 12,
     "metadata": {},
     "output_type": "execute_result"
    }
   ],
   "execution_count": 12
  },
  {
   "metadata": {},
   "cell_type": "markdown",
   "source": "",
   "id": "92b551934c45c73e"
  },
  {
   "metadata": {
    "ExecuteTime": {
     "end_time": "2025-09-06T07:43:59.520615Z",
     "start_time": "2025-09-06T07:43:59.514985Z"
    }
   },
   "cell_type": "code",
   "source": [
    "# Find the date with the highest total sales.\n",
    "sales.groupby(\"date\")[\"total_sales\"].sum().nlargest(1)"
   ],
   "id": "75261a3d26fea96e",
   "outputs": [
    {
     "data": {
      "text/plain": [
       "date\n",
       "2023-01-01    2.0\n",
       "Name: total_sales, dtype: float64"
      ]
     },
     "execution_count": 13,
     "metadata": {},
     "output_type": "execute_result"
    }
   ],
   "execution_count": 13
  }
 ],
 "metadata": {
  "kernelspec": {
   "display_name": "Python 3",
   "language": "python",
   "name": "python3"
  },
  "language_info": {
   "codemirror_mode": {
    "name": "ipython",
    "version": 2
   },
   "file_extension": ".py",
   "mimetype": "text/x-python",
   "name": "python",
   "nbconvert_exporter": "python",
   "pygments_lexer": "ipython2",
   "version": "2.7.6"
  }
 },
 "nbformat": 4,
 "nbformat_minor": 5
}
